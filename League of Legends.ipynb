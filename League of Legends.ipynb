{
 "cells": [
  {
   "cell_type": "code",
   "execution_count": null,
   "metadata": {
    "_cell_guid": "79c7e3d0-c299-4dcb-8224-4455121ee9b0",
    "_uuid": "d629ff2d2480ee46fbb7e2d37f6b5fab8052498a",
    "collapsed": true
   },
   "outputs": [],
   "source": [
    "import pandas as pd\n",
    "import numpy as np\n",
    "import matplotlib.pyplot as plt\n",
    "import seaborn as sns\n",
    "pd.options.mode.chained_assignment = None\n",
    "plt.style.use('ggplot')\n",
    "%matplotlib inline"
   ]
  },
  {
   "cell_type": "code",
   "execution_count": null,
   "metadata": {
    "_uuid": "a7a26e343d3d6a8609b6b17169cdd235fb329788",
    "collapsed": true
   },
   "outputs": [],
   "source": [
    "champs = pd.read_csv(\"../input/champs.csv\")\n",
    "champs.head()"
   ]
  },
  {
   "cell_type": "code",
   "execution_count": null,
   "metadata": {
    "_uuid": "84f3bf034fdbeba6e07ecb3dd90e7cbee4415480",
    "collapsed": true
   },
   "outputs": [],
   "source": [
    "matches = pd.read_csv(\"../input/matches.csv\")\n",
    "matches.head()"
   ]
  },
  {
   "cell_type": "code",
   "execution_count": null,
   "metadata": {
    "_uuid": "97ad8e9eb83301bdc0a5c2e2507e8454a16aa18f",
    "collapsed": true
   },
   "outputs": [],
   "source": [
    "participants = pd.read_csv('../input/participants.csv')\n",
    "participants.tail()"
   ]
  },
  {
   "cell_type": "code",
   "execution_count": null,
   "metadata": {
    "_uuid": "1b78244222b181a2044bb6a2300b57abe83d90a5",
    "collapsed": true
   },
   "outputs": [],
   "source": [
    "stats1 = pd.read_csv('../input/stats1.csv')\n",
    "stats1.head(2)"
   ]
  },
  {
   "cell_type": "code",
   "execution_count": null,
   "metadata": {
    "_uuid": "c0f81ed9f95a9be4324251415082a7b55bbd7bc7",
    "collapsed": true
   },
   "outputs": [],
   "source": [
    "stats2 = pd.read_csv('../input/stats2.csv')\n",
    "stats2.head(2)"
   ]
  },
  {
   "cell_type": "code",
   "execution_count": null,
   "metadata": {
    "_uuid": "62096affe9349671f4d96a10bb6b6a4bc75dff6d",
    "collapsed": true
   },
   "outputs": [],
   "source": [
    "stats = stats1.append(stats2)\n",
    "stats.shape"
   ]
  },
  {
   "cell_type": "code",
   "execution_count": null,
   "metadata": {
    "_uuid": "545e9cff02948860fbe0fc44b580373b4e7d649d",
    "collapsed": true
   },
   "outputs": [],
   "source": [
    "stats.head()"
   ]
  },
  {
   "cell_type": "markdown",
   "metadata": {
    "_uuid": "b6794e7852384da6328bb1d8abcdeaada51a11c9"
   },
   "source": [
    "## Some Data Cleaning"
   ]
  },
  {
   "cell_type": "markdown",
   "metadata": {
    "_uuid": "3d37ef9155852327973a1c9f01a79d2247a158e8"
   },
   "source": [
    "#### putting all together in one DataFrame"
   ]
  },
  {
   "cell_type": "code",
   "execution_count": null,
   "metadata": {
    "_uuid": "0f33a25fd32c79611fc8223e37601c1020c2b706",
    "collapsed": true
   },
   "outputs": [],
   "source": [
    "df = pd.merge(participants, stats, how = 'left', on = ['id'], suffixes=('', '_y'))\n",
    "\n",
    "df = pd.merge(df , champs, how = 'left', left_on= 'championid', right_on='id'\n",
    "             ,suffixes=('', '_y') )\n",
    "\n",
    "df = pd.merge(df, matches, how = 'left', left_on = 'matchid', right_on = 'id'\n",
    "              , suffixes=('', '_y'))"
   ]
  },
  {
   "cell_type": "code",
   "execution_count": null,
   "metadata": {
    "_uuid": "ca8d3fc5a1d2282351042df7a3537e198d1dcb0e",
    "collapsed": true
   },
   "outputs": [],
   "source": [
    "df.columns"
   ]
  },
  {
   "cell_type": "markdown",
   "metadata": {
    "_uuid": "bdca1a5bb9607b815845980ca4b08bbee2d9578e"
   },
   "source": [
    "## Some Data Cleaning"
   ]
  },
  {
   "cell_type": "code",
   "execution_count": null,
   "metadata": {
    "_uuid": "c773d6c89fdee03f74bd437a0bbd05c8f07f83f4",
    "collapsed": true
   },
   "outputs": [],
   "source": [
    "def final_position(col):\n",
    "    if col['role'] in ('DUO_SUPPORT', 'DUO_CARRY'):\n",
    "        return col['role']\n",
    "    else:\n",
    "        return col['position']"
   ]
  },
  {
   "cell_type": "code",
   "execution_count": null,
   "metadata": {
    "_uuid": "d781e561ab89343d6cfd466aef2c202562534da6",
    "collapsed": true
   },
   "outputs": [],
   "source": [
    "df['adjposition'] = df.apply(final_position, axis = 1)"
   ]
  },
  {
   "cell_type": "code",
   "execution_count": null,
   "metadata": {
    "_uuid": "260f8b3b2e282e38f4d294d917642980452b8796",
    "collapsed": true
   },
   "outputs": [],
   "source": [
    "df.head()"
   ]
  },
  {
   "cell_type": "code",
   "execution_count": null,
   "metadata": {
    "_uuid": "db2d731db5e8cbb443d8cf03b6712a33b6958807",
    "collapsed": true
   },
   "outputs": [],
   "source": [
    "df['team'] = df['player'].apply(lambda x: '1' if x <= 5 else '2')\n",
    "df['team_role'] = df['team'] + ' - ' + df['adjposition']"
   ]
  },
  {
   "cell_type": "code",
   "execution_count": null,
   "metadata": {
    "_uuid": "265cccd8a1727e1537683e890cbe0d366cbebe7e",
    "collapsed": true
   },
   "outputs": [],
   "source": [
    "df.head()"
   ]
  },
  {
   "cell_type": "markdown",
   "metadata": {
    "_uuid": "ebf2a7456f623ede96bde245cd1e1f18630576b8"
   },
   "source": [
    "### removing matchid with duplicate roles"
   ]
  },
  {
   "cell_type": "code",
   "execution_count": null,
   "metadata": {
    "_uuid": "a013aee0f8ca9666dd29d4699dff6f2651fc7415",
    "collapsed": true
   },
   "outputs": [],
   "source": [
    "remove_index = []\n",
    "for i in ('1 - MID', '1 - TOP', '1 - DUO_SUPPORT', '1 - DUO_CARRY', '1 - JUNGLE',\n",
    "          '2 - MID', '2 - TOP', '2 - DUO_SUPPORT', '2 - DUO_CARRY', '2 - JUNGLE'):\n",
    "    df_remove = df[df['team_role'] == i].groupby('matchid').agg({'team_role':'count'})\n",
    "    remove_index.extend(df_remove[df_remove['team_role'] != 1].index.values)"
   ]
  },
  {
   "cell_type": "markdown",
   "metadata": {
    "_uuid": "c8c44f868c9ca9febeb448085d60f980f581663a"
   },
   "source": [
    "###  remove unclassified BOT, as correct ones should be DUO_SUPPORT OR DUO_CARRY"
   ]
  },
  {
   "cell_type": "code",
   "execution_count": null,
   "metadata": {
    "_uuid": "a11bb4e1cd3fc0c43a690a4add6386ed63e0c958",
    "collapsed": true
   },
   "outputs": [],
   "source": [
    "remove_index.extend(df[df['adjposition'] == 'BOT']['matchid'].unique())\n",
    "remove_index = list(set(remove_index))"
   ]
  },
  {
   "cell_type": "markdown",
   "metadata": {
    "_uuid": "db9a1685e078667fb726ba5d74700fef852bf1e7"
   },
   "source": [
    "## Before & After Cleaning"
   ]
  },
  {
   "cell_type": "code",
   "execution_count": null,
   "metadata": {
    "_uuid": "2776d329e3f9b00774844b6ed3f683a384000738",
    "collapsed": true
   },
   "outputs": [],
   "source": [
    "print('# matches in dataset before cleaning:{}'.format(df['matchid'].nunique()))\n",
    "df = df[~df['matchid'].isin(remove_index)]\n",
    "print('# matches in dataset after cleaning: {}'.format(df['matchid'].nunique()))"
   ]
  },
  {
   "cell_type": "code",
   "execution_count": null,
   "metadata": {
    "_uuid": "9922ead868a9c0ad882ef717fd218a8b2ca03729",
    "collapsed": true
   },
   "outputs": [],
   "source": [
    "df.columns"
   ]
  },
  {
   "cell_type": "markdown",
   "metadata": {
    "_uuid": "92422843a3ef71a42ccbefbb5958936b0eaf4223"
   },
   "source": [
    "### The Columns we need"
   ]
  },
  {
   "cell_type": "code",
   "execution_count": null,
   "metadata": {
    "_uuid": "f0a5fbf7c2017ec1215ab99dfd18bcbd495051f6",
    "collapsed": true
   },
   "outputs": [],
   "source": [
    "df = df[['id', 'matchid', 'player', 'name', 'adjposition', 'team_role',\n",
    "         'win', 'kills', 'deaths', 'assists', 'turretkills','totdmgtochamp',\n",
    "         'totheal', 'totminionskilled', 'goldspent', 'totdmgtaken', 'inhibkills',\n",
    "         'pinksbought', 'wardsplaced', 'duration', 'platformid',\n",
    "         'seasonid', 'version']]\n",
    "df.head()"
   ]
  },
  {
   "cell_type": "markdown",
   "metadata": {
    "_uuid": "3e3f1b85c6deef25ed62b8a1593bd5d9496d2f90"
   },
   "source": [
    "## EDA (Exploratory Data Analysis)"
   ]
  },
  {
   "cell_type": "code",
   "execution_count": null,
   "metadata": {
    "_uuid": "9581c4a4f173d9c0ea2d60d6fb5d8b493c8a61bf",
    "collapsed": true
   },
   "outputs": [],
   "source": [
    "df_v = df.copy()\n",
    "# Putting ward limits\n",
    "df_v['wardsplaced'] = df_v['wardsplaced'].apply(lambda x: x if x<30 else 30)\n",
    "df_v['wardsplaced'] = df_v['wardsplaced'].apply(lambda x: x if x>0 else 0)\n",
    "\n",
    "df_v['wardsplaced'].head()"
   ]
  },
  {
   "cell_type": "code",
   "execution_count": null,
   "metadata": {
    "_uuid": "4ab75b01983ba0d8f96a7362b11cc7f92334fff4",
    "collapsed": true
   },
   "outputs": [],
   "source": [
    "plt.figure(figsize=(12,10))\n",
    "sns.violinplot(x='seasonid', y= 'wardsplaced', hue='win', data= df_v, split = True\n",
    "              , inner= 'quartile')\n",
    "plt.title('Wardsplaced by season : win & lose')"
   ]
  },
  {
   "cell_type": "markdown",
   "metadata": {
    "_uuid": "c6100d48da3bc7e40d43ca0852b0ebac7bf29c86"
   },
   "source": [
    "we can notice that wards are getting more popular and growing everyseason in both winning & losing games."
   ]
  },
  {
   "cell_type": "code",
   "execution_count": null,
   "metadata": {
    "_uuid": "38c7cd07ade26985899d8f607f6af374a26540c6",
    "collapsed": true
   },
   "outputs": [],
   "source": [
    "df_corr = df._get_numeric_data()\n",
    "df_corr = df_corr.drop(['id', 'matchid', 'player', 'seasonid'], axis = 1)\n",
    "\n",
    "m = np.zeros_like(df_corr.corr(), dtype=np.bool)\n",
    "m[np.triu_indices_from(m)] = True\n",
    "\n",
    "plt.figure(figsize=(16,10))\n",
    "sns.heatmap(df_corr.corr(), cmap = 'coolwarm', annot= True, fmt = '.2f',\n",
    "            linewidths=.5, mask = m)\n",
    "\n",
    "plt.title('Correlations - win vs factors (all games)')\n"
   ]
  },
  {
   "cell_type": "markdown",
   "metadata": {
    "_uuid": "d84b5bf9d4f1af0178c4fbab8d894217472c0269"
   },
   "source": [
    "if you never played the game, you would find these info interesting !\n",
    "* deaths affect badly on win rate\n",
    "* kills goes well with goldspent & totdmgtochamp \n",
    "* deaths propotional with duration & totdmgtaken\n",
    "* more goldspent at late game ( more duration )\n",
    "* totminionkilled aka farming goes well with totdmgtochamp aka damaging enemy champs ALSO more  goldspent ofcourse."
   ]
  },
  {
   "cell_type": "markdown",
   "metadata": {
    "_uuid": "9bd7f953a55df80e90cf0fbcf9bd4c733d80b64d"
   },
   "source": [
    "#### This is kinda generic so we will split the heatmap into:\n",
    " games less than 25mins\n",
    " & games more than 25min "
   ]
  },
  {
   "cell_type": "code",
   "execution_count": null,
   "metadata": {
    "_uuid": "73ecbf0ac9a822a60574b7fd230960bb5abe7cfb",
    "collapsed": true
   },
   "outputs": [],
   "source": [
    "df_corr_2 = df._get_numeric_data()\n",
    "# for games less than 25mins\n",
    "df_corr_2 = df_corr_2[df_corr_2['duration'] <= 1500]\n",
    "df_corr_2 = df_corr_2.drop(['id', 'matchid', 'player', 'seasonid'], axis = 1)\n",
    "\n",
    "m = np.zeros_like(df_corr_2.corr(), dtype=np.bool)\n",
    "m[np.triu_indices_from(m)] = True\n",
    "\n",
    "plt.figure(figsize=(16,10))\n",
    "sns.heatmap(df_corr_2.corr(), cmap = 'coolwarm', annot= True, fmt = '.2f',\n",
    "            linewidths=.5, mask = m)\n",
    "\n",
    "plt.title('Correlations - win vs factors (for games last less than 25 mins)')"
   ]
  },
  {
   "cell_type": "markdown",
   "metadata": {
    "_uuid": "95a24ee2466dd12321e12c05a24eb6c765ae78cb"
   },
   "source": [
    "Correlations here are stronger and more obvisious:\n",
    "* kills & deaths affect strongly the winning process\n",
    "* also assits & turretkills affect the winning process \n",
    "* kills has strong relation with goldspent\n",
    "* more goldspent means more totdamagetochamp means more likely to earn kills"
   ]
  },
  {
   "cell_type": "code",
   "execution_count": null,
   "metadata": {
    "_uuid": "6bb42793c92992a05781f9fd144391b393eb1a32",
    "collapsed": true
   },
   "outputs": [],
   "source": [
    "df_corr_3 = df._get_numeric_data()\n",
    "# for games more than 40mins\n",
    "df_corr_3 = df_corr_3[df_corr_3['duration'] > 2400]\n",
    "df_corr_3 = df_corr_3.drop(['id', 'matchid', 'player', 'seasonid'], axis = 1)\n",
    "\n",
    "m = np.zeros_like(df_corr_3.corr(), dtype=np.bool)\n",
    "m[np.triu_indices_from(m)] = True\n",
    "\n",
    "plt.figure(figsize=(16,10))\n",
    "sns.heatmap(df_corr_3.corr(), cmap = 'coolwarm', annot= True, fmt = '.2f',\n",
    "            linewidths=.5, mask = m)\n",
    "\n",
    "plt.title('Correlations - win vs factors (for games last less than 40 mins)')"
   ]
  },
  {
   "cell_type": "markdown",
   "metadata": {
    "_uuid": "513002d2bccb3b7555b872ac19f6b619df7770e7"
   },
   "source": [
    "So in the late game as gamers call it OR after 40 mins of game time we find that:\n",
    "* deaths & kills doesnt even matter alot and have very poor correlation with game winning.\n",
    "* inhibkills & turretkills have about 25% chance of winning the game(still not big correlation).\n",
    "* kills have high correlation with goldspent & totdmgtochamp.\n",
    "* assists have 40% corr with wardsplaced ( as this is the support's job) also -43% with totminionkilled( supports don't farm alot) and -32% with kills.\n"
   ]
  },
  {
   "cell_type": "markdown",
   "metadata": {
    "_uuid": "a99313c41cb8eaefc08f36655772464f61a0fd83"
   },
   "source": [
    "### Top win rate champions:"
   ]
  },
  {
   "cell_type": "code",
   "execution_count": null,
   "metadata": {
    "_uuid": "97f2fae72a9f46cb74f47ce0c154d9634b664e38",
    "collapsed": true
   },
   "outputs": [],
   "source": [
    "pd.options.display.float_format = '{:,.1f}'.format\n",
    "\n",
    "\n",
    "df_win_rate = df.groupby('name').agg({'win': 'sum','name': 'count',\n",
    "                                     'kills':'mean','deaths':'mean',\n",
    "                                     'assists':'mean'})\n",
    "df_win_rate.columns = ['win' , 'total matches', 'K', 'D', 'A']\n",
    "df_win_rate['win rate'] = df_win_rate['win'] / df_win_rate['total matches'] * 100\n",
    "df_win_rate['KDA'] = (df_win_rate['K'] + df_win_rate['A']) / df_win_rate['D']\n",
    "df_win_rate = df_win_rate.sort_values('win rate',ascending= False)\n",
    "df_win_rate = df_win_rate[['total matches', 'win rate' , 'K' , 'D', 'A', 'KDA']]\n",
    "\n",
    "\n",
    "print('Top 10 win rate')\n",
    "print(df_win_rate.head(10))\n",
    "print('Least 10 win rate')\n",
    "print(df_win_rate.tail(10))"
   ]
  },
  {
   "cell_type": "code",
   "execution_count": null,
   "metadata": {
    "_uuid": "9372f59f14a7e68f1026f86d69107b6390fbfb3b",
    "collapsed": true
   },
   "outputs": [],
   "source": [
    "df_win_rate.reset_index(inplace= True)"
   ]
  },
  {
   "cell_type": "code",
   "execution_count": null,
   "metadata": {
    "_uuid": "baa9e50904bbfbae4e5e8e5296bdffd770b9ea3f",
    "collapsed": true
   },
   "outputs": [],
   "source": [
    "# plotting the result visually\n",
    "plt.figure(figsize=(16,30))\n",
    "cmap = sns.cubehelix_palette(rot=-.2, as_cmap=True)\n",
    "ax = sns.scatterplot(x=\"win rate\", y=\"name\", hue='KDA',\n",
    "                     palette=cmap, sizes=(10, 200),\n",
    "                     data=df_win_rate)"
   ]
  },
  {
   "cell_type": "code",
   "execution_count": null,
   "metadata": {
    "_uuid": "d71d8cae1de94e96d5a1aaafb79ca11b53c92712",
    "collapsed": true
   },
   "outputs": [],
   "source": [
    "df_win_rate.head()"
   ]
  },
  {
   "cell_type": "markdown",
   "metadata": {
    "_uuid": "69b37f4dd486e37538266b3c6e873d0a272ad2b1"
   },
   "source": [
    "## Counter pick advices !"
   ]
  },
  {
   "cell_type": "code",
   "execution_count": null,
   "metadata": {
    "_uuid": "81d1b00ff2e52c85253515995e71ff3e2aa8d68d",
    "collapsed": true
   },
   "outputs": [],
   "source": [
    "df_2 = df.sort_values(['matchid','adjposition'], ascending = [1,1])\n",
    "\n",
    "df_2['shift 1'] = df_2['name'].shift()\n",
    "df_2['shift -1'] = df_2['name'].shift(-1)\n",
    "\n",
    "def matchup(x):\n",
    "    if x['player'] <= 5:\n",
    "        if x['name'] < x['shift -1']:\n",
    "            name_return = x['name'] + ' vs ' + x['shift -1']\n",
    "        else:\n",
    "            name_return = x['shift -1'] + ' vs ' + x['name']\n",
    "    else:\n",
    "        if x['name'] < x['shift 1']:\n",
    "            name_return = x['name'] + ' vs ' + x['shift 1']\n",
    "        else:\n",
    "            name_return = x['shift 1'] + ' vs ' + x['name']\n",
    "    return name_return\n",
    "\n",
    "df_2['matchup'] = df_2.apply(matchup, axis = 1)\n",
    "df_2['win_adj'] = df_2.apply(lambda x: x['win'] if x['name'] == x['matchup'].split(' vs')[0]\n",
    "                            else 0, axis = 1)\n",
    "\n",
    "df_2.head()"
   ]
  },
  {
   "cell_type": "code",
   "execution_count": null,
   "metadata": {
    "_uuid": "0392302dcb2dd11eb668619803984e0b9c343b3a",
    "collapsed": true
   },
   "outputs": [],
   "source": [
    "df_matchup = df_2.groupby(['adjposition', 'matchup']).agg({'win_adj': 'sum', 'matchup': 'count'})\n",
    "df_matchup.columns = ['win matches', 'total matches']\n",
    "df_matchup['total matches'] = df_matchup['total matches'] / 2\n",
    "df_matchup['win rate'] = df_matchup['win matches'] /  df_matchup['total matches']  * 100\n",
    "df_matchup['dominant score'] = df_matchup['win rate'] - 50\n",
    "df_matchup['dominant score (ND)'] = abs(df_matchup['dominant score'])\n",
    "df_matchup = df_matchup[df_matchup['total matches'] > df_matchup['total matches'].sum()*0.0001]\n",
    "\n",
    "df_matchup = df_matchup.sort_values('dominant score (ND)', ascending = False)\n",
    "df_matchup = df_matchup[['total matches', 'dominant score']]                   \n",
    "df_matchup = df_matchup.reset_index()\n",
    "\n",
    "print('Dominant score +/- means first/second champion dominant:')\n",
    "\n",
    "for i in df_matchup['adjposition'].unique(): \n",
    "        print('\\n{}:'.format(i))\n",
    "        print(df_matchup[df_matchup['adjposition'] == i].iloc[:,1:].head(5))"
   ]
  },
  {
   "cell_type": "code",
   "execution_count": null,
   "metadata": {
    "_uuid": "5231c3e55428e813e624babf71656070093075c2",
    "collapsed": true
   },
   "outputs": [],
   "source": [
    "df_matchup['adjposition'].unique()\n",
    "\n",
    "df_matchup_TOP = df_matchup.loc[df_matchup['adjposition'] == 'TOP']\n",
    "df_matchup_JUNGLE = df_matchup.loc[df_matchup['adjposition'] == 'JUNGLE']\n",
    "df_matchup_MID = df_matchup.loc[df_matchup['adjposition'] == 'MID']\n",
    "df_matchup_DUO_CARRY = df_matchup.loc[df_matchup['adjposition'] == 'DUO_CARRY']\n",
    "df_matchup_DUO_SUPPORT = df_matchup.loc[df_matchup['adjposition'] == 'DUO_SUPPORT']\n",
    "\n",
    "\n",
    "print(df_matchup_TOP.shape)\n",
    "print(df_matchup_JUNGLE.shape)\n",
    "print(df_matchup_MID.shape)\n",
    "print(df_matchup_DUO_CARRY.shape)\n",
    "print(df_matchup_DUO_SUPPORT.shape)"
   ]
  },
  {
   "cell_type": "code",
   "execution_count": null,
   "metadata": {
    "_uuid": "f61eb90c573741864f2e06b7fc985594203f553e",
    "collapsed": true
   },
   "outputs": [],
   "source": [
    "# plotting duo carry \n",
    "plt.figure(figsize=(16,60))\n",
    "sns.set_color_codes(\"dark\")\n",
    "sns.barplot(x=\"dominant score\", y=\"matchup\", data=df_matchup_DUO_CARRY,\n",
    "            label=\"Total\", color=\"b\")"
   ]
  },
  {
   "cell_type": "markdown",
   "metadata": {
    "_uuid": "f8e864fe9112eca2aa0763bd8a6216e7f407425b"
   },
   "source": [
    "If we plot the ADC ( DUO_CARRY) for an example, we notice:\n",
    "* the negative values means the LEFT champion dominates ( kalista vs kogmaw scored -12.5 means kalista dominates by far)\n",
    "* The positive values  means the RIGHT champion dominates (Graves vs Tristana scored +5.5 means Tristana dominates by far)\n",
    "* While we approach zero from both sides means both champions have balanced dominance points ( MissFortune vs Caitlyn). so its totally up to your skills ;) "
   ]
  },
  {
   "cell_type": "code",
   "execution_count": null,
   "metadata": {
    "_uuid": "563e7163301f61d8339f1e65374c3d5b1fd11139",
    "collapsed": true
   },
   "outputs": [],
   "source": [
    "# plotting TOP\n",
    "\n",
    "plt.figure(figsize=(16,200))\n",
    "sns.set()\n",
    "sns.set_color_codes(\"dark\")\n",
    "sns.barplot(x=\"dominant score\", y=\"matchup\", data=df_matchup_TOP,\n",
    "            label=\"Total\", color=\"c\")"
   ]
  },
  {
   "cell_type": "code",
   "execution_count": null,
   "metadata": {
    "_uuid": "7748db0690a2707f8c7c019854ffe5c7b1d7db08",
    "collapsed": true
   },
   "outputs": [],
   "source": [
    "# plotting jungle\n",
    "\n",
    "plt.figure(figsize=(16,100))\n",
    "sns.set()\n",
    "sns.set_color_codes(\"dark\")\n",
    "sns.barplot(x=\"dominant score\", y=\"matchup\", data=df_matchup_JUNGLE,\n",
    "            label=\"Total\", color=\"g\")"
   ]
  },
  {
   "cell_type": "code",
   "execution_count": null,
   "metadata": {
    "_uuid": "1a9abf58adf21d850ee6b6367d716af3027de927",
    "collapsed": true
   },
   "outputs": [],
   "source": [
    "# plotting mid\n",
    "\n",
    "plt.figure(figsize=(16,100))\n",
    "sns.set()\n",
    "sns.set_color_codes(\"dark\")\n",
    "sns.barplot(x=\"dominant score\", y=\"matchup\", data=df_matchup_MID,\n",
    "            label=\"Total\", color=\"r\")"
   ]
  },
  {
   "cell_type": "code",
   "execution_count": null,
   "metadata": {
    "_uuid": "860248aea2ed7f04b8ec174fc3c3b57becf651db",
    "collapsed": true
   },
   "outputs": [],
   "source": [
    "# plotting support\n",
    "\n",
    "plt.figure(figsize=(16,100))\n",
    "sns.set()\n",
    "sns.set_color_codes(\"dark\")\n",
    "sns.barplot(x=\"dominant score\", y=\"matchup\", data=df_matchup_DUO_SUPPORT,\n",
    "            label=\"Total\", color=\"m\")"
   ]
  },
  {
   "cell_type": "markdown",
   "metadata": {
    "_uuid": "912457a6cafcd22fd1f63b730c96f3cad3e63672"
   },
   "source": [
    "## Thanks, Thats all for now"
   ]
  }
 ],
 "metadata": {
  "kernelspec": {
   "display_name": "Python 3",
   "language": "python",
   "name": "python3"
  },
  "language_info": {
   "codemirror_mode": {
    "name": "ipython",
    "version": 3
   },
   "file_extension": ".py",
   "mimetype": "text/x-python",
   "name": "python",
   "nbconvert_exporter": "python",
   "pygments_lexer": "ipython3",
   "version": "3.6.3"
  }
 },
 "nbformat": 4,
 "nbformat_minor": 1
}
